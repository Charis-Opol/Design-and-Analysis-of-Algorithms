{
 "cells": [
  {
   "cell_type": "code",
   "execution_count": null,
   "id": "3fd85df1",
   "metadata": {},
   "outputs": [
    {
     "name": "stdout",
     "output_type": "stream",
     "text": [
      "Inversion Count: 0\n",
      "Inversion Count: 1\n",
      "Inversion Count: 2\n",
      "Inversion Count: 0\n",
      "Inversion Count: 1\n",
      "Inversion Count: 0\n",
      "Inversion Count: 1\n",
      "Inversion Count: 1\n",
      "Inversion Count: 3\n",
      "Inversion Count: 6\n",
      "Inversion Count: 9\n",
      "Inversion Count: 9\n",
      "Inversion Count: 9\n",
      "Inversion Count: 10\n",
      "Sorted List: [3, 4, 5, 8, 9, 11, 12]\n",
      "Inversions: 14\n"
     ]
    }
   ],
   "source": [
    "def merge_sort_and_count(array):\n",
    "    if len(array) <= 1:\n",
    "        return array, 0\n",
    "    \n",
    "    mid = len(array)//2\n",
    "\n",
    "    left_half, left_inv = merge_sort_and_count(array[:mid])\n",
    "    right_half, right_inv = merge_sort_and_count(array[mid:])\n",
    "\n",
    "    merged_array, split_inv = merge_and_count(left_half, right_half)\n",
    "\n",
    "    total_inversions = left_inv + right_inv + split_inv\n",
    "\n",
    "    return merged_array, total_inversions\n",
    "\n",
    "\n",
    "def merge_and_count(left, right):\n",
    "    merged = []\n",
    "\n",
    "    i = j = 0\n",
    "    inversion = 0\n",
    "\n",
    "    while i < len(left) and j < len(right):\n",
    "        if left[i] < right[j]:\n",
    "            merged.append(left[i])\n",
    "            i += 1\n",
    "        else:\n",
    "            merged.append(right[j])\n",
    "\n",
    "            inversion += len(left) - i\n",
    "            j += 1\n",
    "        print(\"Inversion Count:\", inversion)\n",
    "\n",
    "    print(\"Inversion Count:\", inversion)\n",
    "\n",
    "    merged.extend(left[i:])\n",
    "    merged.extend(right[j:])\n",
    "\n",
    "    return merged, inversion\n",
    "\n",
    "\n",
    "sorted_list, inversions = merge_sort_and_count([12, 8, 9, 3, 5, 11, 4])\n",
    "print(\"Sorted List:\", sorted_list)\n",
    "print(\"Inversions:\", inversions)  # Output: Inversions: 14"
   ]
  }
 ],
 "metadata": {
  "kernelspec": {
   "display_name": "Python 3",
   "language": "python",
   "name": "python3"
  },
  "language_info": {
   "codemirror_mode": {
    "name": "ipython",
    "version": 3
   },
   "file_extension": ".py",
   "mimetype": "text/x-python",
   "name": "python",
   "nbconvert_exporter": "python",
   "pygments_lexer": "ipython3",
   "version": "3.13.7"
  }
 },
 "nbformat": 4,
 "nbformat_minor": 5
}
